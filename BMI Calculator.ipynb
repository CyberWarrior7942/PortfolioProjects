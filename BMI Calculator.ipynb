{
 "cells": [
  {
   "cell_type": "code",
   "execution_count": 19,
   "id": "3a3ac166-a91b-469c-b70d-9675a163eb5c",
   "metadata": {},
   "outputs": [
    {
     "name": "stdin",
     "output_type": "stream",
     "text": [
      "Please enter your name:  Shekhar\n",
      "Please enter your weight in kgs:  70\n",
      "Please enter your height in cms:  188\n"
     ]
    },
    {
     "name": "stdout",
     "output_type": "stream",
     "text": [
      "Your BMI is  19.805341783612494\n"
     ]
    }
   ],
   "source": [
    "name = input(\"Please enter your name: \")\n",
    "weight = int(input(\"Please enter your weight in kgs: \"))\n",
    "height = int(input(\"Please enter your height in cms: \"))\n",
    "BMI = (weight/height/height) * 10000\n",
    "print(\"Your BMI is \", BMI)\n",
    "if BMI>0:\n",
    "    if BMI<18.5: \n",
    "        print(name+\", you are Underweight\")\n",
    "    elif BMI<=24.9:\n",
    "        print(name+\", you are Normal Weight\")\n",
    "    elif BMI<=29.9:\n",
    "        print(name+\", you are OverWeight\")\n",
    "    elif BMI<=34.9:\n",
    "        print(name+\", you are Obese\")\n",
    "    elif BMI<=39.9:\n",
    "        print(name+\", you are Severely Obese\")\n",
    "    elif BMI>=40:\n",
    "        print(name+\", you are Morbidly Obese\")\n",
    "else:\n",
    "    print(\"invalid input\")"
   ]
  }
 ],
 "metadata": {
  "kernelspec": {
   "display_name": "Python 3 (ipykernel)",
   "language": "python",
   "name": "python3"
  },
  "language_info": {
   "codemirror_mode": {
    "name": "ipython",
    "version": 3
   },
   "file_extension": ".py",
   "mimetype": "text/x-python",
   "name": "python",
   "nbconvert_exporter": "python",
   "pygments_lexer": "ipython3",
   "version": "3.12.7"
  }
 },
 "nbformat": 4,
 "nbformat_minor": 5
}
