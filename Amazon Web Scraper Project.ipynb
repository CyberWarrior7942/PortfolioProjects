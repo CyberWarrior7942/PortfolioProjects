{
 "cells": [
  {
   "cell_type": "code",
   "execution_count": 1,
   "id": "a46d7237-dccd-45de-89c6-9905154c5cbf",
   "metadata": {},
   "outputs": [],
   "source": [
    "#importing libraries\n",
    "\n",
    "from bs4 import BeautifulSoup\n",
    "import requests\n",
    "import smtplib\n",
    "import time\n",
    "import datetime\n",
    "import os"
   ]
  },
  {
   "cell_type": "code",
   "execution_count": 2,
   "id": "d9571c73-156a-40eb-8c41-3162c4467c66",
   "metadata": {},
   "outputs": [
    {
     "name": "stdout",
     "output_type": "stream",
     "text": [
      "Casio Stainless Steel Men Vintage Digital Grey Dial Unisex A-158Wa-1Q (D011), Band Color-Silver\n",
      "1,695\n"
     ]
    }
   ],
   "source": [
    "#connect to website to pull data from\n",
    "#amazon website to my watch\n",
    "url = 'https://www.amazon.in/Casio-Vintage-Digital-Grey-Watch-A158WA-1Q/dp/B000GAYQJ0?crid=61WROP6HMQXB&dib=eyJ2IjoiMSJ9.qTX6xM7y0AfYR986Ffmgaa67dSFehEQcvZZBRA5o2PRlqipID2EpHffrcLfGWuCMGSVZSkk7zMycEgG2snCVBQqg3T6RNDGOiVO3y3lgkXmJ4tTG-AI2g_gLivJ8jPEQ23I42eb7MKD3QX3UhDPytYxIHG2xF-0UTcYXeT1pKG8SAl8GhXA5tayfMspOIsPxjMKsKy8ruMh-oXuyBoyVMarofzNfmXxxdWfofyFBzFzRp7Lmyznc77blASm0JZuhM6kK7BM24gPFUX52ONHy_6czsCfTq9C5WC-9LNtcv98.GF2McqyW_wxQg40yP0Nd-qS1h9lAaCG7GpM9aABOpi4&dib_tag=se&keywords=casio+f91w&nsdOptOutParam=true&qid=1735339136&sprefix=casio+f91%2Caps%2C545&sr=8-1'\n",
    "headers = {\"User-Agent\" : \"Mozilla/5.0 (Windows NT 10.0; Win64; x64; rv:133.0) Gecko/20100101 Firefox/133.0\"}\n",
    "page = requests.get(url, headers = headers)\n",
    "soup1 = BeautifulSoup(page.content, \"html.parser\")\n",
    "soup2 = BeautifulSoup(soup1.prettify(), 'html.parser')\n",
    "title = soup2.find(id = 'productTitle').get_text().strip()\n",
    "price = soup2.find('span', class_ = 'a-price-whole').get_text().strip()\n",
    "print(title)\n",
    "print(price)\n",
    "\n",
    "\n",
    "\n",
    "\n"
   ]
  },
  {
   "cell_type": "code",
   "execution_count": 3,
   "id": "a6128529-64be-4581-8fa4-a3643ed27185",
   "metadata": {},
   "outputs": [
    {
     "name": "stdout",
     "output_type": "stream",
     "text": [
      "2025-01-12\n"
     ]
    }
   ],
   "source": [
    "import datetime\n",
    "today = datetime.date.today()\n",
    "print(today)"
   ]
  },
  {
   "cell_type": "code",
   "execution_count": 4,
   "id": "15caa0e4-b398-4446-a75c-99e75fac6c12",
   "metadata": {},
   "outputs": [],
   "source": [
    "#creating a csv to write all the imported data to\n",
    "import csv\n",
    "\n",
    "header = ['Title', 'Price', 'Date']\n",
    "data = [title, price, today]\n",
    "\n",
    "# if statement to create a new csv if it's the first run \n",
    "if not os.path.isfile(r\"C:\\Users\\gshek\\AmazonWebScraper.csv\"):\n",
    "    with open('AmazonWebScraper.csv', 'w', newline = '', encoding = 'UTF-8') as f:\n",
    "        writer = csv.writer(f)\n",
    "        writer.writerow(header)\n",
    "        writer.writerow(data)"
   ]
  },
  {
   "cell_type": "code",
   "execution_count": 5,
   "id": "f645bfdc-dda1-4a07-aed2-fc69ab5ea41a",
   "metadata": {},
   "outputs": [
    {
     "data": {
      "text/html": [
       "<div>\n",
       "<style scoped>\n",
       "    .dataframe tbody tr th:only-of-type {\n",
       "        vertical-align: middle;\n",
       "    }\n",
       "\n",
       "    .dataframe tbody tr th {\n",
       "        vertical-align: top;\n",
       "    }\n",
       "\n",
       "    .dataframe thead th {\n",
       "        text-align: right;\n",
       "    }\n",
       "</style>\n",
       "<table border=\"1\" class=\"dataframe\">\n",
       "  <thead>\n",
       "    <tr style=\"text-align: right;\">\n",
       "      <th></th>\n",
       "      <th>Title</th>\n",
       "      <th>Price</th>\n",
       "      <th>Date</th>\n",
       "    </tr>\n",
       "  </thead>\n",
       "  <tbody>\n",
       "    <tr>\n",
       "      <th>0</th>\n",
       "      <td>Casio Stainless Steel Men Vintage Digital Grey...</td>\n",
       "      <td>1,695</td>\n",
       "      <td>2025-01-12</td>\n",
       "    </tr>\n",
       "  </tbody>\n",
       "</table>\n",
       "</div>"
      ],
      "text/plain": [
       "                                               Title  Price        Date\n",
       "0  Casio Stainless Steel Men Vintage Digital Grey...  1,695  2025-01-12"
      ]
     },
     "execution_count": 5,
     "metadata": {},
     "output_type": "execute_result"
    }
   ],
   "source": [
    "import pandas as pd\n",
    "df = pd.read_csv(r\"C:\\Users\\gshek\\AmazonWebScraper.csv\")\n",
    "df"
   ]
  },
  {
   "cell_type": "code",
   "execution_count": 6,
   "id": "e41d5b88-27db-483c-b73e-d597048e5b6b",
   "metadata": {},
   "outputs": [],
   "source": [
    "#appending data to the newly created csv\n",
    "with open('AmazonWebScraper.csv', 'a+', newline = '', encoding = 'UTF-8') as f:\n",
    "    writer = csv.writer(f)\n",
    "    writer.writerow(data)"
   ]
  },
  {
   "cell_type": "code",
   "execution_count": 7,
   "id": "bf10a6e3-b791-4331-9c28-6a2f2909e295",
   "metadata": {},
   "outputs": [],
   "source": [
    "#function to append data to the csv\n",
    "def check_price():\n",
    "    url = 'https://www.amazon.in/Casio-Vintage-Digital-Grey-Watch-A158WA-1Q/dp/B000GAYQJ0?crid=61WROP6HMQXB&dib=eyJ2IjoiMSJ9.qTX6xM7y0AfYR986Ffmgaa67dSFehEQcvZZBRA5o2PRlqipID2EpHffrcLfGWuCMGSVZSkk7zMycEgG2snCVBQqg3T6RNDGOiVO3y3lgkXmJ4tTG-AI2g_gLivJ8jPEQ23I42eb7MKD3QX3UhDPytYxIHG2xF-0UTcYXeT1pKG8SAl8GhXA5tayfMspOIsPxjMKsKy8ruMh-oXuyBoyVMarofzNfmXxxdWfofyFBzFzRp7Lmyznc77blASm0JZuhM6kK7BM24gPFUX52ONHy_6czsCfTq9C5WC-9LNtcv98.GF2McqyW_wxQg40yP0Nd-qS1h9lAaCG7GpM9aABOpi4&dib_tag=se&keywords=casio+f91w&nsdOptOutParam=true&qid=1735339136&sprefix=casio+f91%2Caps%2C545&sr=8-1'\n",
    "    headers = {\"User-Agent\" : \"Mozilla/5.0 (Windows NT 10.0; Win64; x64; rv:133.0) Gecko/20100101 Firefox/133.0\"}\n",
    "    page = requests.get(url, headers = headers)\n",
    "    soup1 = BeautifulSoup(page.content, \"html.parser\")\n",
    "    soup2 = BeautifulSoup(soup1.prettify(), 'html.parser')\n",
    "    title = soup2.find(id = 'productTitle').get_text().strip()\n",
    "    price = soup2.find('span', class_ = 'a-price-whole').get_text().strip()\n",
    "\n",
    "    import datetime\n",
    "    today = datetime.date.today()\n",
    "\n",
    "    import csv\n",
    "    header = ['Title', 'Price', 'Date']\n",
    "    data = [title, price, today]\n",
    "\n",
    "    with open('AmazonWebScraper.csv', 'a+', newline = '', encoding = 'UTF-8') as f:\n",
    "        writer = csv.writer(f)\n",
    "        writer.writerow(data)"
   ]
  },
  {
   "cell_type": "code",
   "execution_count": null,
   "id": "f1e70631-f291-448d-9469-b0843b9f29fb",
   "metadata": {},
   "outputs": [],
   "source": [
    "#running the function on loop every 24 hours\n",
    "while(True):\n",
    "    check_price()\n",
    "    time.sleep(86400)"
   ]
  },
  {
   "cell_type": "code",
   "execution_count": null,
   "id": "cbdfbf4e-bc61-4092-af4a-31ba7fed9344",
   "metadata": {},
   "outputs": [],
   "source": []
  }
 ],
 "metadata": {
  "kernelspec": {
   "display_name": "Python 3 (ipykernel)",
   "language": "python",
   "name": "python3"
  },
  "language_info": {
   "codemirror_mode": {
    "name": "ipython",
    "version": 3
   },
   "file_extension": ".py",
   "mimetype": "text/x-python",
   "name": "python",
   "nbconvert_exporter": "python",
   "pygments_lexer": "ipython3",
   "version": "3.12.7"
  }
 },
 "nbformat": 4,
 "nbformat_minor": 5
}
