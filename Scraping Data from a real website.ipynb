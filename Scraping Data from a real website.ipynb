{
 "cells": [
  {
   "cell_type": "code",
   "execution_count": 1,
   "id": "c2f904ae-530d-4de8-a15e-53555c2eb3d8",
   "metadata": {},
   "outputs": [],
   "source": [
    "from bs4 import BeautifulSoup\n",
    "import requests"
   ]
  },
  {
   "cell_type": "code",
   "execution_count": 2,
   "id": "de81ce78-db4c-4ef7-8974-5492f073ce30",
   "metadata": {},
   "outputs": [],
   "source": [
    "page = requests.get('https://en.wikipedia.org/wiki/List_of_largest_companies_in_the_United_States_by_revenue')"
   ]
  },
  {
   "cell_type": "code",
   "execution_count": 3,
   "id": "f31feadd-193d-43b3-96d6-73249ddebfc8",
   "metadata": {},
   "outputs": [],
   "source": [
    "soup = BeautifulSoup(page.text, 'html')"
   ]
  },
  {
   "cell_type": "code",
   "execution_count": 4,
   "id": "0ab9b2b7-a54f-442d-933e-08027794010d",
   "metadata": {},
   "outputs": [],
   "source": [
    "table = soup.find('table', class_ = 'wikitable sortable')\n",
    "headers = table.find_all('th')"
   ]
  },
  {
   "cell_type": "code",
   "execution_count": 5,
   "id": "b28182fb-f73c-48d3-9217-9f56a2773546",
   "metadata": {},
   "outputs": [
    {
     "name": "stdout",
     "output_type": "stream",
     "text": [
      "[<th>Rank\n",
      "</th>, <th>Name\n",
      "</th>, <th>Industry\n",
      "</th>, <th>Revenue <br/>(USD millions)\n",
      "</th>, <th>Revenue growth\n",
      "</th>, <th>Employees\n",
      "</th>, <th>Headquarters\n",
      "</th>]\n"
     ]
    }
   ],
   "source": [
    "print(headers)"
   ]
  },
  {
   "cell_type": "code",
   "execution_count": 6,
   "id": "bfb76e8c-8890-4d07-8c8c-b201c7ed10b0",
   "metadata": {},
   "outputs": [],
   "source": [
    "headers_text = [i.text.strip() for i in headers]"
   ]
  },
  {
   "cell_type": "code",
   "execution_count": 7,
   "id": "230146fe-ce79-4c83-92af-a764c45e2108",
   "metadata": {},
   "outputs": [
    {
     "data": {
      "text/plain": [
       "['Rank',\n",
       " 'Name',\n",
       " 'Industry',\n",
       " 'Revenue (USD millions)',\n",
       " 'Revenue growth',\n",
       " 'Employees',\n",
       " 'Headquarters']"
      ]
     },
     "execution_count": 7,
     "metadata": {},
     "output_type": "execute_result"
    }
   ],
   "source": [
    "headers_text"
   ]
  },
  {
   "cell_type": "code",
   "execution_count": 8,
   "id": "5f352bb1-5979-4427-a17b-9c6e966b5a3f",
   "metadata": {},
   "outputs": [],
   "source": [
    "import pandas as pd"
   ]
  },
  {
   "cell_type": "code",
   "execution_count": 9,
   "id": "5dbeb668-5a5e-457f-be57-bd61fef0659c",
   "metadata": {},
   "outputs": [],
   "source": [
    "df = pd.DataFrame(columns = headers_text)"
   ]
  },
  {
   "cell_type": "code",
   "execution_count": 10,
   "id": "6b1c9985-b764-43ed-b8d7-d191ec93148d",
   "metadata": {},
   "outputs": [],
   "source": [
    "row_data = table.find_all('tr')"
   ]
  },
  {
   "cell_type": "code",
   "execution_count": 11,
   "id": "0e841dc1-7d9e-422b-af9b-743f793b48cd",
   "metadata": {},
   "outputs": [],
   "source": [
    "for i in row_data[1:]:\n",
    "    cell_data = i.find_all('td')\n",
    "    cell_data_text = [j.text.strip() for j in cell_data]\n",
    "    length = len(df)\n",
    "    df.loc[length] = cell_data_text"
   ]
  },
  {
   "cell_type": "code",
   "execution_count": 36,
   "id": "d0cf3b3e-5cb1-4056-87d0-d72edab85484",
   "metadata": {},
   "outputs": [],
   "source": []
  },
  {
   "cell_type": "code",
   "execution_count": 13,
   "id": "be1301a9-51aa-4384-8de1-ff11ec641ba7",
   "metadata": {},
   "outputs": [],
   "source": [
    "df = df.to_csv(r'C:\\Users\\gshek\\Downloads\\Companies.csv', index = False)"
   ]
  },
  {
   "cell_type": "code",
   "execution_count": 30,
   "id": "1eada423-7f9b-4c28-92c1-6e2d83050d1a",
   "metadata": {},
   "outputs": [],
   "source": [
    "pd.options.display.max_rows = 101"
   ]
  },
  {
   "cell_type": "code",
   "execution_count": 34,
   "id": "d60f937f-ae7d-4101-a794-5b1c3a22a0c7",
   "metadata": {},
   "outputs": [],
   "source": []
  },
  {
   "cell_type": "code",
   "execution_count": null,
   "id": "a05c7e7b-33f3-4eec-867f-6d9fdc42b4ec",
   "metadata": {},
   "outputs": [],
   "source": []
  }
 ],
 "metadata": {
  "kernelspec": {
   "display_name": "Python 3 (ipykernel)",
   "language": "python",
   "name": "python3"
  },
  "language_info": {
   "codemirror_mode": {
    "name": "ipython",
    "version": 3
   },
   "file_extension": ".py",
   "mimetype": "text/x-python",
   "name": "python",
   "nbconvert_exporter": "python",
   "pygments_lexer": "ipython3",
   "version": "3.12.7"
  }
 },
 "nbformat": 4,
 "nbformat_minor": 5
}
